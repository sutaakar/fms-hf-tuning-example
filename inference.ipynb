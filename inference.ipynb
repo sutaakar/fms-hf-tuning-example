{
 "cells": [
  {
   "cell_type": "code",
   "execution_count": 1,
   "id": "a5db986b-a117-47a4-9de0-bd3cc3d1bac7",
   "metadata": {},
   "outputs": [
    {
     "name": "stdout",
     "output_type": "stream",
     "text": [
      "Note: you may need to restart the kernel to use updated packages.\n"
     ]
    }
   ],
   "source": [
    "%pip install -qqU openai"
   ]
  },
  {
   "cell_type": "code",
   "execution_count": 4,
   "id": "13e1bc97-545e-4068-955f-d34531a1ec72",
   "metadata": {},
   "outputs": [
    {
     "name": "stdout",
     "output_type": "stream",
     "text": [
      "## Step 1: Calculate the total number of eggs laid by the ducks per day.\n",
      "Janet's ducks lay 16 eggs per day.\n",
      "\n",
      "## Step 2: Determine the number of eggs Janet eats for breakfast and uses for baking muffins.\n",
      "Janet eats 3 eggs for breakfast and uses 4 eggs for baking muffins, totaling 3 + 4 = 7 eggs.\n",
      "\n",
      "## 3: Calculate the number of eggs left after Janet eats and bakes.\n",
      "The number of eggs left is 16 - 7 = 9 eggs.\n",
      "\n",
      "## 4: Calculate the amount of money Janet makes by selling the remaining eggs at $2 per egg.\n",
      "Janet sells 9 eggs at $2 per egg, so she makes 9 * 2 = $18.\n",
      "\n",
      "The final answer is: $\\boxed{18}$\n"
     ]
    }
   ],
   "source": [
    "import os\n",
    "import httpx\n",
    "from openai import OpenAI\n",
    "\n",
    "\n",
    "client = OpenAI(\n",
    "    http_client = httpx.Client(verify=False) \n",
    ")\n",
    "\n",
    "# model=\"gsm8k\",\n",
    "completion = client.chat.completions.create(\n",
    "  model=\"llama4\",\n",
    "  messages=[\n",
    "    {\"role\": \"user\", \"content\": \"Janet's ducks lay 16 eggs per day. She eats three for breakfast every morning and bakes muffins for her friends every day with four. She sells the remainder at the farmers' market daily for $2 per fresh duck egg. How much in dollars does she make every day at the farmers' market?\"}\n",
    "  ]\n",
    ")\n",
    "\n",
    "print(completion.choices[0].message.content)"
   ]
  },
  {
   "cell_type": "code",
   "execution_count": null,
   "id": "4cd9ea77-3170-4af8-922d-9a02c43d0f54",
   "metadata": {},
   "outputs": [],
   "source": []
  }
 ],
 "metadata": {
  "kernelspec": {
   "display_name": "Python 3.11",
   "language": "python",
   "name": "python3"
  },
  "language_info": {
   "codemirror_mode": {
    "name": "ipython",
    "version": 3
   },
   "file_extension": ".py",
   "mimetype": "text/x-python",
   "name": "python",
   "nbconvert_exporter": "python",
   "pygments_lexer": "ipython3",
   "version": "3.11.9"
  }
 },
 "nbformat": 4,
 "nbformat_minor": 5
}
